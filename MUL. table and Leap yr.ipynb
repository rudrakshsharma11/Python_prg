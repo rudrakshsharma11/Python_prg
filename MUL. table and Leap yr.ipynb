{
 "cells": [
  {
   "cell_type": "code",
   "execution_count": 19,
   "id": "1f5551be",
   "metadata": {},
   "outputs": [
    {
     "name": "stdout",
     "output_type": "stream",
     "text": [
      "Enter the no=75\n",
      "1 * 75 = 75\n",
      "2 * 75 = 150\n",
      "3 * 75 = 225\n",
      "4 * 75 = 300\n",
      "5 * 75 = 375\n",
      "6 * 75 = 450\n",
      "7 * 75 = 525\n",
      "8 * 75 = 600\n",
      "9 * 75 = 675\n",
      "10 * 75 = 750\n"
     ]
    }
   ],
   "source": [
    "## Multiplication Table\n",
    "\n",
    "num=int(input(\"Enter the no=\"))\n",
    "\n",
    "for i in range(1,11):\n",
    "    mul=i*num\n",
    "    print(i,'*',num,'=',mul)"
   ]
  },
  {
   "cell_type": "code",
   "execution_count": 18,
   "id": "33916a1b",
   "metadata": {},
   "outputs": [
    {
     "name": "stdout",
     "output_type": "stream",
     "text": [
      "Enter the Year=\n",
      "1990\n",
      "This is a Non Leap Year= 1990\n"
     ]
    }
   ],
   "source": [
    "## Leap year\n",
    "\n",
    "print(\"Enter the Year=\")\n",
    "year=int(input())\n",
    "if(year % 4==0):\n",
    "    print(\"This is a Leap Year=\",year)\n",
    "else:\n",
    "    print(\"This is a Non Leap Year=\",year)\n"
   ]
  },
  {
   "cell_type": "code",
   "execution_count": null,
   "id": "41601e37",
   "metadata": {},
   "outputs": [],
   "source": []
  }
 ],
 "metadata": {
  "kernelspec": {
   "display_name": "Python 3",
   "language": "python",
   "name": "python3"
  },
  "language_info": {
   "codemirror_mode": {
    "name": "ipython",
    "version": 3
   },
   "file_extension": ".py",
   "mimetype": "text/x-python",
   "name": "python",
   "nbconvert_exporter": "python",
   "pygments_lexer": "ipython3",
   "version": "3.8.11"
  }
 },
 "nbformat": 4,
 "nbformat_minor": 5
}
