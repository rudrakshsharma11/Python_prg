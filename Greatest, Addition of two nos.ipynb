{
 "cells": [
  {
   "cell_type": "code",
   "execution_count": 8,
   "id": "fbce8ec3",
   "metadata": {},
   "outputs": [
    {
     "name": "stdout",
     "output_type": "stream",
     "text": [
      "enter the 1st nos.2\n",
      "enter the 2nd nos.3\n",
      "5\n"
     ]
    }
   ],
   "source": [
    "a=input(\"enter the 1st nos.\")\n",
    "x=int(a)\n",
    "b=input(\"enter the 2nd nos.\")\n",
    "y=int(b)\n",
    "c=x+y;\n",
    "print(c);"
   ]
  },
  {
   "cell_type": "markdown",
   "id": "16eb4470",
   "metadata": {},
   "source": [
    "Greater then less than nos.\n",
    "\n"
   ]
  },
  {
   "cell_type": "code",
   "execution_count": 18,
   "id": "b67f13b3",
   "metadata": {},
   "outputs": [
    {
     "name": "stdout",
     "output_type": "stream",
     "text": [
      "Enter the 1st no.2\n",
      "enter the 2nd no.3\n",
      "3 is greater\n"
     ]
    }
   ],
   "source": [
    "x=int(input(\"Enter the 1st no.\"))\n",
    "y=int(input(\"enter the 2nd no.\"))\n",
    "if(x>y):\n",
    " print(\"%d is greater\"%x)\n",
    "else:\n",
    " print(\"%d is greater\"%y)"
   ]
  },
  {
   "cell_type": "code",
   "execution_count": null,
   "id": "a337155d",
   "metadata": {},
   "outputs": [],
   "source": []
  }
 ],
 "metadata": {
  "kernelspec": {
   "display_name": "Python 3",
   "language": "python",
   "name": "python3"
  },
  "language_info": {
   "codemirror_mode": {
    "name": "ipython",
    "version": 3
   },
   "file_extension": ".py",
   "mimetype": "text/x-python",
   "name": "python",
   "nbconvert_exporter": "python",
   "pygments_lexer": "ipython3",
   "version": "3.8.11"
  }
 },
 "nbformat": 4,
 "nbformat_minor": 5
}
