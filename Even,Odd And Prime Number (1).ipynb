{
 "cells": [
  {
   "cell_type": "code",
   "execution_count": 68,
   "id": "3423fea2",
   "metadata": {},
   "outputs": [
    {
     "name": "stdout",
     "output_type": "stream",
     "text": [
      "Enter the Number=78\n",
      "The number is Even Number = 78\n"
     ]
    }
   ],
   "source": [
    "## Even odd\n",
    "\n",
    "\n",
    "num=int(input(\"Enter the Number=\"))\n",
    "if(num%2==0):\n",
    "    print(\"The number is Even Number =\" ,num)\n",
    "else:\n",
    "    print(\"The number is Odd Number =\",num)"
   ]
  },
  {
   "cell_type": "code",
   "execution_count": 70,
   "id": "d382e031",
   "metadata": {},
   "outputs": [
    {
     "name": "stdout",
     "output_type": "stream",
     "text": [
      "Enter the number23\n",
      "The number is Prime 23\n"
     ]
    }
   ],
   "source": [
    "## Prime Number\n",
    "\n",
    "num=int(input(\"Enter the number\"))\n",
    "if num<2:\n",
    "    print(\"The number is not Prime\",num)\n",
    "else:\n",
    "    for i in range(2,int(num/2)+1):\n",
    "        if(num % i==0):\n",
    "            print(\"The number is Not Prime\",num)\n",
    "            break\n",
    "    else:\n",
    "                    print(\"The number is Prime\",num)\n",
    "       \n"
   ]
  },
  {
   "cell_type": "code",
   "execution_count": null,
   "id": "6d9ffa46",
   "metadata": {},
   "outputs": [],
   "source": []
  },
  {
   "cell_type": "code",
   "execution_count": null,
   "id": "5f653480",
   "metadata": {},
   "outputs": [],
   "source": []
  }
 ],
 "metadata": {
  "kernelspec": {
   "display_name": "Python 3",
   "language": "python",
   "name": "python3"
  },
  "language_info": {
   "codemirror_mode": {
    "name": "ipython",
    "version": 3
   },
   "file_extension": ".py",
   "mimetype": "text/x-python",
   "name": "python",
   "nbconvert_exporter": "python",
   "pygments_lexer": "ipython3",
   "version": "3.8.11"
  }
 },
 "nbformat": 4,
 "nbformat_minor": 5
}
