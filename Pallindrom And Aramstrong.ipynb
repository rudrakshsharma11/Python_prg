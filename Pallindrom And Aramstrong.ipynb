{
 "cells": [
  {
   "cell_type": "markdown",
   "id": "5175416e",
   "metadata": {},
   "source": [
    "Pallindrom Number"
   ]
  },
  {
   "cell_type": "code",
   "execution_count": 13,
   "id": "a8821569",
   "metadata": {},
   "outputs": [
    {
     "name": "stdout",
     "output_type": "stream",
     "text": [
      "Enter the number=346\n",
      "The number is Not pallindrom=346\n"
     ]
    }
   ],
   "source": [
    "n=int(input(\"Enter the number=\"))\n",
    "rev=0;\n",
    "temp=n\n",
    "while(n>0):\n",
    " z=n%10;\n",
    " rev=rev*10+z\n",
    " n=n//10\n",
    "if(temp==rev):\n",
    " print(\"The number is pallimdrom =%d\"%temp)\n",
    "else:\n",
    " print(\"The number is Not pallindrom=%d\"%temp)\n",
    "\n"
   ]
  },
  {
   "cell_type": "markdown",
   "id": "b59e2548",
   "metadata": {},
   "source": [
    "Aramstrong Number\n"
   ]
  },
  {
   "cell_type": "code",
   "execution_count": 10,
   "id": "5b2eabc3",
   "metadata": {},
   "outputs": [
    {
     "name": "stdout",
     "output_type": "stream",
     "text": [
      "Enter the number=456\n",
      "The Number456 is Not Aramstrong\n"
     ]
    }
   ],
   "source": [
    "num=int(input(\"Enter the number=\"))\n",
    "s=0\n",
    "z=num\n",
    "while(num>0):\n",
    " temp=num%10\n",
    " s=s+temp**3\n",
    " num=num//10\n",
    "if(z==s):\n",
    "  print(\"The Number %d is Aramstrong\"%z)\n",
    "else:\n",
    " print(\"The Number %d is Not Aramstrong\"%z)"
   ]
  },
  {
   "cell_type": "code",
   "execution_count": null,
   "id": "c5805423",
   "metadata": {},
   "outputs": [],
   "source": []
  }
 ],
 "metadata": {
  "kernelspec": {
   "display_name": "Python 3",
   "language": "python",
   "name": "python3"
  },
  "language_info": {
   "codemirror_mode": {
    "name": "ipython",
    "version": 3
   },
   "file_extension": ".py",
   "mimetype": "text/x-python",
   "name": "python",
   "nbconvert_exporter": "python",
   "pygments_lexer": "ipython3",
   "version": "3.8.11"
  }
 },
 "nbformat": 4,
 "nbformat_minor": 5
}
