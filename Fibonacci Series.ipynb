{
 "cells": [
  {
   "cell_type": "markdown",
   "id": "193859c8",
   "metadata": {},
   "source": [
    "Fibonacci SEries"
   ]
  },
  {
   "cell_type": "code",
   "execution_count": 59,
   "id": "35b6e44c",
   "metadata": {},
   "outputs": [
    {
     "name": "stdout",
     "output_type": "stream",
     "text": [
      "Enter the nos. of terms=1\n",
      "Fibonacci Sequence is=0\n",
      "0\n"
     ]
    }
   ],
   "source": [
    "n=int(input(\"Enter the nos. of terms=\"))\n",
    "a=0;b=1;\n",
    "count=0;\n",
    "if(n==1):\n",
    " print(\"Fibonacci Sequence is=%d\"%a)\n",
    "else:\n",
    "     print(\"The Fibonacci Series is=\")\n",
    "while(count<n):\n",
    " print(a)\n",
    " temp=a+b\n",
    " a=b\n",
    " b=temp\n",
    " count=count+1"
   ]
  },
  {
   "cell_type": "code",
   "execution_count": null,
   "id": "7b8a0211",
   "metadata": {},
   "outputs": [],
   "source": []
  }
 ],
 "metadata": {
  "kernelspec": {
   "display_name": "Python 3",
   "language": "python",
   "name": "python3"
  },
  "language_info": {
   "codemirror_mode": {
    "name": "ipython",
    "version": 3
   },
   "file_extension": ".py",
   "mimetype": "text/x-python",
   "name": "python",
   "nbconvert_exporter": "python",
   "pygments_lexer": "ipython3",
   "version": "3.8.11"
  }
 },
 "nbformat": 4,
 "nbformat_minor": 5
}
