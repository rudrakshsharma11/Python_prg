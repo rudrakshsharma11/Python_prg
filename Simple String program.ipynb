{
 "cells": [
  {
   "cell_type": "markdown",
   "id": "b3c3c80f",
   "metadata": {},
   "source": [
    "Simple String Program"
   ]
  },
  {
   "cell_type": "code",
   "execution_count": 2,
   "id": "d26b3951",
   "metadata": {},
   "outputs": [
    {
     "data": {
      "text/plain": [
       "10"
      ]
     },
     "execution_count": 2,
     "metadata": {},
     "output_type": "execute_result"
    }
   ],
   "source": [
    "## Length of String\n",
    "\n",
    "a=\"abcdefghij\"\n",
    "len(a)"
   ]
  },
  {
   "cell_type": "code",
   "execution_count": 14,
   "id": "7e77f341",
   "metadata": {},
   "outputs": [
    {
     "data": {
      "text/plain": [
       "'QWERTYUIOP'"
      ]
     },
     "execution_count": 14,
     "metadata": {},
     "output_type": "execute_result"
    }
   ],
   "source": [
    "## Converting to Upper case\n",
    "\n",
    "a=\"qwertyuiop\"\n",
    "a.upper()\n"
   ]
  },
  {
   "cell_type": "code",
   "execution_count": 15,
   "id": "76cccc12",
   "metadata": {},
   "outputs": [
    {
     "data": {
      "text/plain": [
       "'vbnmlk'"
      ]
     },
     "execution_count": 15,
     "metadata": {},
     "output_type": "execute_result"
    }
   ],
   "source": [
    "## String print\n",
    "\n",
    "a=\"zxcvbnmlkjh\"\n",
    "a[3:9]"
   ]
  },
  {
   "cell_type": "code",
   "execution_count": 16,
   "id": "948828f6",
   "metadata": {},
   "outputs": [
    {
     "data": {
      "text/plain": [
       "'pkhf'"
      ]
     },
     "execution_count": 16,
     "metadata": {},
     "output_type": "execute_result"
    }
   ],
   "source": [
    "## Reverse String print with jump of one charerecter\n",
    "\n",
    "a=\"asdfghjklpoi\"\n",
    "a[9:1:-2]"
   ]
  },
  {
   "cell_type": "code",
   "execution_count": null,
   "id": "6658d2b1",
   "metadata": {},
   "outputs": [],
   "source": []
  }
 ],
 "metadata": {
  "kernelspec": {
   "display_name": "Python 3",
   "language": "python",
   "name": "python3"
  },
  "language_info": {
   "codemirror_mode": {
    "name": "ipython",
    "version": 3
   },
   "file_extension": ".py",
   "mimetype": "text/x-python",
   "name": "python",
   "nbconvert_exporter": "python",
   "pygments_lexer": "ipython3",
   "version": "3.8.11"
  }
 },
 "nbformat": 4,
 "nbformat_minor": 5
}
