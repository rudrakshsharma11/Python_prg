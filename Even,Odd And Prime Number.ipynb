{
 "cells": [
  {
   "cell_type": "code",
   "execution_count": 4,
   "id": "3423fea2",
   "metadata": {},
   "outputs": [
    {
     "name": "stdout",
     "output_type": "stream",
     "text": [
      "Enter the Number=45\n",
      "The number is Odd Number = 45\n"
     ]
    }
   ],
   "source": [
    "## Even odd\n",
    "\n",
    "\n",
    "num=int(input(\"Enter the Number=\"))\n",
    "if(num%2==0):\n",
    " print(\"The number is Even Number =\" ,num)\n",
    "else:\n",
    " print(\"The number is Odd Number =\",num)"
   ]
  },
  {
   "cell_type": "code",
   "execution_count": 26,
   "id": "d382e031",
   "metadata": {},
   "outputs": [
    {
     "name": "stdout",
     "output_type": "stream",
     "text": [
      "Enter the number37\n",
      "The 37 is a Primr Number\n"
     ]
    }
   ],
   "source": [
    "## Prime Number\n",
    "\n",
    "n=int(input(\"Enter the number\"))\n",
    "count=0;\n",
    "if(n>1):\n",
    " for i in range(2,num):\n",
    "  if(n%i==0):\n",
    "    count=count+1\n",
    "if(count==1):\n",
    " print(\"The %d is a Prime Number\"%n)\n",
    "else:\n",
    " print(\"The %d is Not Prime Number\"%n)\n"
   ]
  },
  {
   "cell_type": "code",
   "execution_count": null,
   "id": "6d9ffa46",
   "metadata": {},
   "outputs": [],
   "source": []
  }
 ],
 "metadata": {
  "kernelspec": {
   "display_name": "Python 3",
   "language": "python",
   "name": "python3"
  },
  "language_info": {
   "codemirror_mode": {
    "name": "ipython",
    "version": 3
   },
   "file_extension": ".py",
   "mimetype": "text/x-python",
   "name": "python",
   "nbconvert_exporter": "python",
   "pygments_lexer": "ipython3",
   "version": "3.8.11"
  }
 },
 "nbformat": 4,
 "nbformat_minor": 5
}
