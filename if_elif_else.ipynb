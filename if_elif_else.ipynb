{
 "cells": [
  {
   "cell_type": "code",
   "execution_count": 7,
   "id": "2379a58f",
   "metadata": {},
   "outputs": [
    {
     "name": "stdout",
     "output_type": "stream",
     "text": [
      "Enter the 1st nos=789\n",
      "Enter the 2nd nos=098\n",
      "Enter the 3rd nos=456\n",
      "The Greatest nos is= 789\n"
     ]
    }
   ],
   "source": [
    "## Greatest of 3 nos.\n",
    "\n",
    "a=int(input(\"Enter the 1st nos=\"))\n",
    "b=int(input(\"Enter the 2nd nos=\"))\n",
    "c=int(input(\"Enter the 3rd nos=\"))\n",
    "\n",
    "if((a>b) & (a>c)):\n",
    "    print(\"The Greatest nos is=\",a)\n",
    "elif(b>c):\n",
    "    print(\"The Greatest nos is=\",b)\n",
    "else:\n",
    "    print(\"The Greatest nos is=\",c)"
   ]
  },
  {
   "cell_type": "code",
   "execution_count": 13,
   "id": "03c7861c",
   "metadata": {},
   "outputs": [
    {
     "name": "stdout",
     "output_type": "stream",
     "text": [
      "Enter the number=-876\n",
      "The Number is Negative(-ve)= -876\n"
     ]
    }
   ],
   "source": [
    "## Check the given nos positive, Negative or 0\n",
    "\n",
    "num=int(input(\"Enter the number=\"))\n",
    "\n",
    "if(num>0):\n",
    "    print(\"The NUmber is Positive(+ve)=\",num)\n",
    "elif(num<0):\n",
    "    print(\"The Number is Negative(-ve)=\",num)\n",
    "else:\n",
    "    print(\"The NUmber is Nutral (i.e, '0')\")"
   ]
  },
  {
   "cell_type": "code",
   "execution_count": null,
   "id": "b9da7b31",
   "metadata": {},
   "outputs": [],
   "source": []
  }
 ],
 "metadata": {
  "kernelspec": {
   "display_name": "Python 3",
   "language": "python",
   "name": "python3"
  },
  "language_info": {
   "codemirror_mode": {
    "name": "ipython",
    "version": 3
   },
   "file_extension": ".py",
   "mimetype": "text/x-python",
   "name": "python",
   "nbconvert_exporter": "python",
   "pygments_lexer": "ipython3",
   "version": "3.8.11"
  }
 },
 "nbformat": 4,
 "nbformat_minor": 5
}
